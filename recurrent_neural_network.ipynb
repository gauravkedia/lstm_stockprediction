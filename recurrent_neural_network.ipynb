{
  "nbformat": 4,
  "nbformat_minor": 0,
  "metadata": {
    "colab": {
      "name": "recurrent neural network.ipynb",
      "provenance": [],
      "authorship_tag": "ABX9TyMmvDMGpYwVMQSmxgSx9Gi7",
      "include_colab_link": true
    },
    "kernelspec": {
      "name": "python3",
      "display_name": "Python 3"
    },
    "accelerator": "GPU"
  },
  "cells": [
    {
      "cell_type": "markdown",
      "metadata": {
        "id": "view-in-github",
        "colab_type": "text"
      },
      "source": [
        "<a href=\"https://colab.research.google.com/github/gauravkedia/lstm_stockprediction/blob/main/recurrent_neural_network.ipynb\" target=\"_parent\"><img src=\"https://colab.research.google.com/assets/colab-badge.svg\" alt=\"Open In Colab\"/></a>"
      ]
    },
    {
      "cell_type": "code",
      "metadata": {
        "id": "T9RC0Inragce"
      },
      "source": [
        "import numpy as np\n",
        "import matplotlib.pyplot as plt\n",
        "import pandas as pd\n",
        "import pandas_datareader as web\n",
        "import datetime as dt\n",
        "from sklearn.preprocessing import MinMaxScaler\n",
        "from tensorflow.keras.models import Sequential\n",
        "from tensorflow.keras.layers import Dense,Dropout,LSTM"
      ],
      "execution_count": 1,
      "outputs": []
    },
    {
      "cell_type": "code",
      "metadata": {
        "id": "cHUBOUKtbbbM"
      },
      "source": [
        "company='MARUTI.NS'\n",
        "start=dt.datetime(2012,1,1)\n",
        "end=dt.datetime(2020,1,1)\n",
        "data=web.DataReader(company,'yahoo',start,end)\n"
      ],
      "execution_count": 2,
      "outputs": []
    },
    {
      "cell_type": "code",
      "metadata": {
        "id": "sSa2YHi_cTCE"
      },
      "source": [
        "scaler=MinMaxScaler(feature_range=(0,1))\n",
        "scaled_data =scaler.fit_transform(data['Close'].values.reshape(-1,1))\n",
        "\n"
      ],
      "execution_count": 3,
      "outputs": []
    },
    {
      "cell_type": "code",
      "metadata": {
        "id": "NwiDMj3teGAe"
      },
      "source": [
        "prediction_days=60"
      ],
      "execution_count": 4,
      "outputs": []
    },
    {
      "cell_type": "code",
      "metadata": {
        "id": "jgsfuLzteVfH"
      },
      "source": [
        "x_train=[]\n",
        "y_train=[]\n",
        "\n"
      ],
      "execution_count": 5,
      "outputs": []
    },
    {
      "cell_type": "code",
      "metadata": {
        "id": "kY0nGqB1ekBR"
      },
      "source": [
        "for x in range(prediction_days,len(scaled_data)):\n",
        "  x_train.append(scaled_data[x-prediction_days:x,0])\n",
        "  y_train.append(scaled_data[x,0])"
      ],
      "execution_count": 6,
      "outputs": []
    },
    {
      "cell_type": "code",
      "metadata": {
        "id": "Ulpo2TlAhNK_"
      },
      "source": [
        "x_train,y_train=np.array(x_train),np.array(y_train)\n",
        "x_train=np.reshape(x_train,(x_train.shape[0],x_train.shape[1],1))\n"
      ],
      "execution_count": 7,
      "outputs": []
    },
    {
      "cell_type": "code",
      "metadata": {
        "colab": {
          "base_uri": "https://localhost:8080/"
        },
        "id": "sw5f_eAViWZV",
        "outputId": "2db45c94-dcc7-4618-abff-aaa7808b529f"
      },
      "source": [
        "model = Sequential()\n",
        "model.add(LSTM(units=50,return_sequences=True,input_shape=(x_train.shape[1],1)))\n",
        "model.add(Dropout(0.2))\n",
        "model.add(LSTM(units=50,return_sequences=True))\n",
        "model.add(Dropout(0.2))\n",
        "model.add(LSTM(units=50))\n",
        "model.add(Dropout(0.2))\n",
        "model.add(Dense(units=1))\n",
        "\n",
        "model.compile(optimizer='adam',loss='mean_squared_error')\n",
        "model.fit(x_train,y_train,epochs=25,batch_size=32)\n",
        "\n",
        "\n"
      ],
      "execution_count": 8,
      "outputs": [
        {
          "output_type": "stream",
          "text": [
            "Epoch 1/25\n",
            "60/60 [==============================] - 11s 13ms/step - loss: 0.0494\n",
            "Epoch 2/25\n",
            "60/60 [==============================] - 1s 13ms/step - loss: 0.0043\n",
            "Epoch 3/25\n",
            "60/60 [==============================] - 1s 13ms/step - loss: 0.0032\n",
            "Epoch 4/25\n",
            "60/60 [==============================] - 1s 13ms/step - loss: 0.0033\n",
            "Epoch 5/25\n",
            "60/60 [==============================] - 1s 13ms/step - loss: 0.0036\n",
            "Epoch 6/25\n",
            "60/60 [==============================] - 1s 13ms/step - loss: 0.0030\n",
            "Epoch 7/25\n",
            "60/60 [==============================] - 1s 13ms/step - loss: 0.0030\n",
            "Epoch 8/25\n",
            "60/60 [==============================] - 1s 13ms/step - loss: 0.0025\n",
            "Epoch 9/25\n",
            "60/60 [==============================] - 1s 13ms/step - loss: 0.0042\n",
            "Epoch 10/25\n",
            "60/60 [==============================] - 1s 13ms/step - loss: 0.0030\n",
            "Epoch 11/25\n",
            "60/60 [==============================] - 1s 13ms/step - loss: 0.0023\n",
            "Epoch 12/25\n",
            "60/60 [==============================] - 1s 13ms/step - loss: 0.0025\n",
            "Epoch 13/25\n",
            "60/60 [==============================] - 1s 13ms/step - loss: 0.0024\n",
            "Epoch 14/25\n",
            "60/60 [==============================] - 1s 13ms/step - loss: 0.0029\n",
            "Epoch 15/25\n",
            "60/60 [==============================] - 1s 13ms/step - loss: 0.0025\n",
            "Epoch 16/25\n",
            "60/60 [==============================] - 1s 13ms/step - loss: 0.0019\n",
            "Epoch 17/25\n",
            "60/60 [==============================] - 1s 13ms/step - loss: 0.0019\n",
            "Epoch 18/25\n",
            "60/60 [==============================] - 1s 13ms/step - loss: 0.0017\n",
            "Epoch 19/25\n",
            "60/60 [==============================] - 1s 13ms/step - loss: 0.0020\n",
            "Epoch 20/25\n",
            "60/60 [==============================] - 1s 13ms/step - loss: 0.0019\n",
            "Epoch 21/25\n",
            "60/60 [==============================] - 1s 13ms/step - loss: 0.0021\n",
            "Epoch 22/25\n",
            "60/60 [==============================] - 1s 13ms/step - loss: 0.0020\n",
            "Epoch 23/25\n",
            "60/60 [==============================] - 1s 13ms/step - loss: 0.0018\n",
            "Epoch 24/25\n",
            "60/60 [==============================] - 1s 13ms/step - loss: 0.0017\n",
            "Epoch 25/25\n",
            "60/60 [==============================] - 1s 13ms/step - loss: 0.0018\n"
          ],
          "name": "stdout"
        },
        {
          "output_type": "execute_result",
          "data": {
            "text/plain": [
              "<tensorflow.python.keras.callbacks.History at 0x7fa870150610>"
            ]
          },
          "metadata": {
            "tags": []
          },
          "execution_count": 8
        }
      ]
    },
    {
      "cell_type": "code",
      "metadata": {
        "id": "AhfJhqILlkO2"
      },
      "source": [
        "test_start=dt.datetime(2020,1,1)\n",
        "test_end=dt.datetime.now()\n",
        "test_data=web.DataReader(company,'yahoo',test_start,test_end)\n",
        "actual_prices=test_data['Close'].values\n",
        "total_dataset=pd.concat((data['Close'],test_data['Close']),axis=0)\n",
        "model_inputs=total_dataset[len(total_dataset)-len(test_data)-prediction_days:].values\n",
        "model_inputs=model_inputs.reshape(-1,1)\n",
        "model_inputs=scaler.transform(model_inputs)\n",
        "\n"
      ],
      "execution_count": 9,
      "outputs": []
    },
    {
      "cell_type": "code",
      "metadata": {
        "id": "lPtXbUHIp_Id"
      },
      "source": [
        "x_test=[]\n"
      ],
      "execution_count": 10,
      "outputs": []
    },
    {
      "cell_type": "code",
      "metadata": {
        "id": "Wggwk-BLqHb5"
      },
      "source": [
        "for x in range(prediction_days,len(model_inputs)):\n",
        "  x_test.append(model_inputs[x-prediction_days:x,0])\n",
        "x_test=np.array(x_test)\n",
        "x_test=np.reshape(x_test,(x_test.shape[0],x_test.shape[1],1))\n",
        "\n",
        "\n"
      ],
      "execution_count": 11,
      "outputs": []
    },
    {
      "cell_type": "code",
      "metadata": {
        "id": "qLNxWsI3rnGV"
      },
      "source": [
        "predicted_prices=model.predict(x_test)\n",
        "predicted_prices=scaler.inverse_transform(predicted_prices)\n"
      ],
      "execution_count": 12,
      "outputs": []
    },
    {
      "cell_type": "code",
      "metadata": {
        "colab": {
          "base_uri": "https://localhost:8080/",
          "height": 295
        },
        "id": "OE547I6QsCUW",
        "outputId": "4c8b57b2-954d-4047-aec0-26b4dcf324f8"
      },
      "source": [
        "plt.plot(actual_prices,color=\"black\",label=f\"Actual {company} price\")\n",
        "plt.plot(predicted_prices,color='green',label=f\"Predicted {company} price\")\n",
        "plt.title(f\"{company} Share Price\")\n",
        "plt.xlabel('Time')\n",
        "plt.ylabel(f'{company} Share Price')\n",
        "plt.legend()\n",
        "plt.show()\n",
        "\n",
        "\n"
      ],
      "execution_count": 13,
      "outputs": [
        {
          "output_type": "display_data",
          "data": {
            "image/png": "[encoded data removed]",
            "text/plain": [
              "<Figure size 432x288 with 1 Axes>"
            ]
          },
          "metadata": {
            "tags": [],
            "needs_background": "light"
          }
        }
      ]
    },
    {
      "cell_type": "code",
      "metadata": {
        "id": "N0Uu0pWXuYS8"
      },
      "source": [
        "real_data=[model_inputs[len(model_inputs)+1-prediction_days:len(model_inputs + 1),0]]\n",
        "real_data=np.array(real_data)\n",
        "real_data=np.reshape(real_data,(real_data.shape[0],real_data.shape[1],1))"
      ],
      "execution_count": 14,
      "outputs": []
    },
    {
      "cell_type": "code",
      "metadata": {
        "colab": {
          "base_uri": "https://localhost:8080/"
        },
        "id": "LxiX707HvE7E",
        "outputId": "fcac06fe-9f54-48bc-e4b4-29cb1ee5d3ce"
      },
      "source": [
        "prediction=model.predict(real_data)\n",
        "prediction=scaler.inverse_transform(prediction)\n",
        "print(f\"Prediction:{prediction}\")"
      ],
      "execution_count": 15,
      "outputs": [
        {
          "output_type": "stream",
          "text": [
            "WARNING:tensorflow:Model was constructed with shape (None, 60, 1) for input KerasTensor(type_spec=TensorSpec(shape=(None, 60, 1), dtype=tf.float32, name='lstm_input'), name='lstm_input', description=\"created by layer 'lstm_input'\"), but it was called on an input with incompatible shape (None, 59, 1).\n",
            "Prediction:[[6854.189]]\n"
          ],
          "name": "stdout"
        }
      ]
    }
  ]
}